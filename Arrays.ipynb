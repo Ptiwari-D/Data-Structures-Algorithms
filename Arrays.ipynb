{
 "cells": [
  {
   "cell_type": "code",
   "execution_count": 5,
   "metadata": {},
   "outputs": [
    {
     "name": "stdout",
     "output_type": "stream",
     "text": [
      "5\n"
     ]
    }
   ],
   "source": [
    "# Given an array ‘arr’ of size ‘n’ find the largest element in the array.\n",
    "# For this Problem there can be multiple solutions but can be generalized into three major category. i.e, Brute, Optimal, best optimized.\n",
    "\n",
    "# Taking array as an input\n",
    "# 1. If size of the array has to be considered (For this problem it is considered)\n",
    "\n",
    "n = int(input(\"Enter the size of the array\"))\n",
    "arr = []\n",
    "for _ in range(n):\n",
    "  element = int(input())\n",
    "  arr.append(element)\n",
    "\n",
    "# 2. if size of the array is not to be considered\n",
    "  # arr = list(map(int, input(\"enter the numbers and separate it with space\" ).split()))\n",
    "\n",
    "# ---------- Brute Force ----------\n",
    "def largest(arr:[], n: int) -> int:\n",
    "  arr.sort()\n",
    "  return arr[n-1]\n",
    "\n",
    "print(largest(arr,n))"
   ]
  },
  {
   "cell_type": "code",
   "execution_count": 6,
   "metadata": {},
   "outputs": [
    {
     "name": "stdout",
     "output_type": "stream",
     "text": [
      "5\n"
     ]
    }
   ],
   "source": [
    "# ----------- Optimal Solution ----------\n",
    "def Olargest(arr:[], n:int) ->int:\n",
    "  large = arr[0]\n",
    "  for i in range(1,n):\n",
    "    if arr[i] > large:\n",
    "      large = arr[i]\n",
    "  return large\n",
    "\n",
    "print(Olargest(arr,n))"
   ]
  }
 ],
 "metadata": {
  "kernelspec": {
   "display_name": "Python 3",
   "language": "python",
   "name": "python3"
  },
  "language_info": {
   "codemirror_mode": {
    "name": "ipython",
    "version": 3
   },
   "file_extension": ".py",
   "mimetype": "text/x-python",
   "name": "python",
   "nbconvert_exporter": "python",
   "pygments_lexer": "ipython3",
   "version": "3.12.4"
  }
 },
 "nbformat": 4,
 "nbformat_minor": 2
}
